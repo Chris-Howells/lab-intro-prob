{
 "cells": [
  {
   "cell_type": "markdown",
   "metadata": {},
   "source": [
    "# Introduction To Probability\n",
    "## Challenge 1\n",
    "\n",
    "A and B are events of a probability space with $(\\omega, \\sigma, P)$ such that $P(A) = 0.3$, $P(B) = 0.6$ and $P(A \\cap B) = 0.1$\n",
    "\n",
    "Which of the following statements are false?\n",
    "* $P(A \\cup B) = 0.6$\n",
    "* $P(A \\cap B^{C}) = 0.2$\n",
    "* $P(A \\cap (B \\cup B^{C})) = 0.4$\n",
    "* $P(A^{C} \\cap B^{C}) = 0.3$\n",
    "* $P((A \\cap B)^{C}) = 0.9$\n",
    "\n"
   ]
  },
  {
   "cell_type": "code",
   "execution_count": null,
   "metadata": {},
   "outputs": [],
   "source": [
    "\"\"\"\n",
    "your solution here\n",
    "##1)\n",
    "P(AUB) = 0.6 is false because P(A) + P(B) = 0.9 \n",
    "P(A) + P(B) - P(ANB) = 0.8\n",
    "\n",
    "Therefore neither =0.6 and so the statement is false\n",
    "\n",
    "\n",
    "2)P(ANC) = P(A) + P(C) - P(AUC) \n",
    "0.2 = 0.3 - (0.4-0.3)0.1 \n",
    "Therefore correct\n",
    "\n",
    "\n",
    "3) P(BUC) = 1\n",
    "Therefore P(AN(P(BUC)) = P(A)\n",
    "=0.3\n",
    "\n",
    "Therefore false\n",
    "\n",
    "4)P(AC N BC) = P(AC)0.7 * P(BC)0.4 = 0.28\n",
    "\n",
    "OR\n",
    "P(ACUBC) = P(AC) + P(BC) - P(ACNBC)\n",
    "P(ACUBC) = 0.7 + 0.4 - 0.9\n",
    "= 0.2 \n",
    "\n",
    "Therefore false\n",
    "\n",
    "Qu5)\n",
    "\n",
    "1 - P(ANB)(0.1) = 0.9\n",
    "\n",
    "= true\n",
    "\"\"\""
   ]
  },
  {
   "cell_type": "markdown",
   "metadata": {},
   "source": [
    "## Challenge 2\n",
    "There is a box with 10 white balls, 12 red balls and 8 black balls. Calculate the probability of:\n",
    "* Taking a white ball out.\n",
    "* Taking a white ball out after taking a black ball out.\n",
    "* Taking a red ball out after taking a black and a red ball out.\n",
    "* Taking a red ball out after taking a black and a red ball out with reposition.\n",
    "\n",
    "**Hint**: Reposition means putting back the ball into the box after taking it out."
   ]
  },
  {
   "cell_type": "code",
   "execution_count": null,
   "metadata": {},
   "outputs": [],
   "source": [
    "\"\"\"\n",
    "your solution here\n",
    "\n",
    "1)Taking a white ball out.\n",
    "10/30 = 1/3\n",
    "\n",
    "2)Taking a white ball out after taking a black ball out.\n",
    "8/30 * 10/29 = 9.2%\n",
    "\n",
    "3)Taking a red ball out after taking a black and a red ball out.\n",
    "8/30 * 12/29 * 11/28 = 0.04334\n",
    "12/30 * 8/29 * 11/28 = 0.04334\n",
    "\n",
    "+ together = 0.086699\n",
    "=9%\n",
    "\n",
    "4) Taking a red ball out after taking a black and a red ball out with reposition.\n",
    "\n",
    "8/30 * 12/30 * 12/30 = 0.04334 = 0.0426\n",
    "12/30 * 8/30 * 12/30 = 0.04334 = 0.0426\n",
    "\n",
    "0.085\n",
    "\n",
    "\"\"\""
   ]
  },
  {
   "cell_type": "markdown",
   "metadata": {},
   "source": [
    "## Challenge 3\n",
    "\n",
    "You are planning to go on a picnic today but the morning is cloudy. You hate rain so you don't know whether to go out or stay home! To help you make a decision, you gather the following data about rainy days:\n",
    "\n",
    "* Knowing that it is a rainy day, the probability of cloudy is 50%!\n",
    "* The probability of any day (rainy or not) starting off cloudy is 40%. \n",
    "* This month is usually dry so only 3 of 30 days (10%) tend to be rainy. \n",
    "\n",
    "What is the probability of rain, given the day started cloudy?"
   ]
  },
  {
   "cell_type": "code",
   "execution_count": null,
   "metadata": {},
   "outputs": [],
   "source": [
    "\"\"\"\n",
    "your solution here\n",
    "\n",
    "\n",
    "P(Cloudy / Given Rain) = 0.5\n",
    "\n",
    "P(Rainy) = 0.1\n",
    "\n",
    "P(Cloudy) = 0.4\n",
    "\n",
    "\n",
    "P(A/b) = P(A and B) / P(B)\n",
    "P(B/A) = P(Band A) / P(A)\n",
    "\n",
    "\n",
    "P(B) = P(A and B) / P(A/B)\n",
    " \n",
    " P(rain | cloudy) = P(rain N cloudy) / P(Cloudy)\n",
    " \n",
    " \n",
    "P(rain N cloudy) = (P(Cloudy | rain) * P(Rain))/ P(Cloudy)\n",
    "\n",
    "= (0.5 * 0.1) / 0.4\n",
    "\n",
    "=0.125\n",
    "\"\"\""
   ]
  },
  {
   "cell_type": "markdown",
   "metadata": {},
   "source": [
    "## Challenge 4\n",
    "\n",
    "One thousand people were asked through a telephone survey whether they thought more street lighting is needed at night or not.\n",
    "\n",
    "Out of the 480 men that answered the survey, 324 said yes and 156 said no. On the other hand, out of the 520 women that answered, 351 said yes and 169 said no. \n",
    "\n",
    "We wonder if men and women have a different opinions about the street lighting matter. Is gender relevant or irrelevant to the question?\n",
    "\n",
    "Consider the following events:\n",
    "- The answer is yes, so the person that answered thinks that more street lighting is needed.\n",
    "- The person who answered is a man.\n",
    "\n",
    "We want to know if these events are independent, that is, if the fact of wanting more light depends on whether one is male or female. Are these events independent or not?\n",
    "\n",
    "**Hint**: To clearly compare the answers by gender, it is best to place the data in a table."
   ]
  },
  {
   "cell_type": "code",
   "execution_count": null,
   "metadata": {},
   "outputs": [],
   "source": [
    "# your code here"
   ]
  },
  {
   "cell_type": "code",
   "execution_count": null,
   "metadata": {},
   "outputs": [],
   "source": [
    "'''\n",
    "\n",
    "Men = 480/1000\n",
    "Men Yes = 324/480\n",
    "Men No = 156/480\n",
    "\n",
    "Women = 520/1000\n",
    "Women Yes = 351/520\n",
    "Women No = 169/351\n",
    "\n",
    "Events A and B are independent if the equation P(ANB) = P(A) * P(B) holds true\n",
    "\n",
    " P(Men N Yes) = P(Men) * P(Yes)\n",
    "So does P(324/1000) = P(480/1000) * P((324+351)/1000)\n",
    "0.324 = 0.48 * 0.027\n",
    "0.324 = 0.324 Therefore events are independent and anserwing Yes/No is not affected by Gender\n",
    "\n",
    "'''"
   ]
  }
 ],
 "metadata": {
  "kernelspec": {
   "display_name": "Python 3",
   "language": "python",
   "name": "python3"
  },
  "language_info": {
   "codemirror_mode": {
    "name": "ipython",
    "version": 3
   },
   "file_extension": ".py",
   "mimetype": "text/x-python",
   "name": "python",
   "nbconvert_exporter": "python",
   "pygments_lexer": "ipython3",
   "version": "3.8.3"
  }
 },
 "nbformat": 4,
 "nbformat_minor": 2
}
